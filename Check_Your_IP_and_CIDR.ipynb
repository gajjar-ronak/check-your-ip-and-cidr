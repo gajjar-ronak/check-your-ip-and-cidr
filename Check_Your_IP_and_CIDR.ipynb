{
  "nbformat": 4,
  "nbformat_minor": 0,
  "metadata": {
    "colab": {
      "provenance": []
    },
    "kernelspec": {
      "name": "python3",
      "display_name": "Python 3"
    },
    "language_info": {
      "name": "python"
    }
  },
  "cells": [
    {
      "cell_type": "code",
      "execution_count": 1,
      "metadata": {
        "colab": {
          "base_uri": "https://localhost:8080/"
        },
        "id": "Hm3GDIIrVL8g",
        "outputId": "00542b67-ca9f-4f09-8086-57c66cf81b14"
      },
      "outputs": [
        {
          "output_type": "stream",
          "name": "stdout",
          "text": [
            "Collecting ipwhois\n",
            "  Downloading ipwhois-1.2.0-py2.py3-none-any.whl.metadata (20 kB)\n",
            "Collecting dnspython<=2.0.0 (from ipwhois)\n",
            "  Downloading dnspython-2.0.0-py3-none-any.whl.metadata (1.9 kB)\n",
            "Downloading ipwhois-1.2.0-py2.py3-none-any.whl (73 kB)\n",
            "\u001b[2K   \u001b[90m━━━━━━━━━━━━━━━━━━━━━━━━━━━━━━━━━━━━━━━━\u001b[0m \u001b[32m73.5/73.5 kB\u001b[0m \u001b[31m1.8 MB/s\u001b[0m eta \u001b[36m0:00:00\u001b[0m\n",
            "\u001b[?25hDownloading dnspython-2.0.0-py3-none-any.whl (208 kB)\n",
            "\u001b[2K   \u001b[90m━━━━━━━━━━━━━━━━━━━━━━━━━━━━━━━━━━━━━━━━\u001b[0m \u001b[32m208.3/208.3 kB\u001b[0m \u001b[31m7.5 MB/s\u001b[0m eta \u001b[36m0:00:00\u001b[0m\n",
            "\u001b[?25hInstalling collected packages: dnspython, ipwhois\n",
            "Successfully installed dnspython-2.0.0 ipwhois-1.2.0\n",
            "\n",
            "\n",
            "Provider:   GOOGLE-CLOUD\n",
            "Public IP:  35.233.248.38\n",
            "CIDRs:      35.208.0.0/12, 35.224.0.0/12, 35.240.0.0/13\n"
          ]
        }
      ],
      "source": [
        "!pip install ipwhois\n",
        "\n",
        "from ipwhois import IPWhois\n",
        "from requests import get\n",
        "\n",
        "ip = get('https://api.ipify.org').text\n",
        "whois = IPWhois(ip).lookup_rdap(depth=1)\n",
        "\n",
        "cidr = whois['network']['cidr']\n",
        "name = whois['network']['name']\n",
        "\n",
        "print('\\n')\n",
        "print('Provider:  ', name)\n",
        "print('Public IP: ', ip)\n",
        "print('CIDRs:     ', cidr)"
      ]
    }
  ]
}